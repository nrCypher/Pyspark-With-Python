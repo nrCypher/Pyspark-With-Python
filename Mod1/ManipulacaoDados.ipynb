{
 "cells": [
  {
   "cell_type": "code",
   "execution_count": 1,
   "id": "da41758e-a958-4001-b8f8-751eb2b9d862",
   "metadata": {},
   "outputs": [],
   "source": [
    "\n",
    "from pyspark import SparkContext\n"
   ]
  },
  {
   "cell_type": "code",
   "execution_count": null,
   "id": "a925d0cf-1101-44e0-b1b2-e76b50b8ffd3",
   "metadata": {},
   "outputs": [],
   "source": [
    "#import pyspark \n",
    "#sc = pyspark.SparkContext('local[*]')\n",
    "# do something to prove it works\n",
    "#rdd = sc.parallelize(range(1000))\n",
    "#rdd.takeSample(False, 5)"
   ]
  },
  {
   "cell_type": "code",
   "execution_count": 2,
   "id": "3425566a-6baa-4801-8820-42b798c26701",
   "metadata": {},
   "outputs": [],
   "source": [
    "sc = SparkContext ( appName = \"AMinhaAplicacao\")"
   ]
  },
  {
   "cell_type": "code",
   "execution_count": 3,
   "id": "0b0772e0-ba38-4f5b-89ee-67b61806e130",
   "metadata": {},
   "outputs": [
    {
     "data": {
      "text/html": [
       "\n",
       "        <div>\n",
       "            <p><b>SparkContext</b></p>\n",
       "\n",
       "            <p><a href=\"http://1b57030f5480:4040\">Spark UI</a></p>\n",
       "\n",
       "            <dl>\n",
       "              <dt>Version</dt>\n",
       "                <dd><code>v3.5.0</code></dd>\n",
       "              <dt>Master</dt>\n",
       "                <dd><code>local[*]</code></dd>\n",
       "              <dt>AppName</dt>\n",
       "                <dd><code>AMinhaAplicacao</code></dd>\n",
       "            </dl>\n",
       "        </div>\n",
       "        "
      ],
      "text/plain": [
       "<SparkContext master=local[*] appName=AMinhaAplicacao>"
      ]
     },
     "execution_count": 3,
     "metadata": {},
     "output_type": "execute_result"
    }
   ],
   "source": [
    "sc"
   ]
  },
  {
   "cell_type": "code",
   "execution_count": null,
   "id": "33898f52-929e-42a6-9814-6f5fe393151a",
   "metadata": {},
   "outputs": [],
   "source": []
  }
 ],
 "metadata": {
  "kernelspec": {
   "display_name": "Python 3 (ipykernel)",
   "language": "python",
   "name": "python3"
  },
  "language_info": {
   "codemirror_mode": {
    "name": "ipython",
    "version": 3
   },
   "file_extension": ".py",
   "mimetype": "text/x-python",
   "name": "python",
   "nbconvert_exporter": "python",
   "pygments_lexer": "ipython3",
   "version": "3.11.6"
  }
 },
 "nbformat": 4,
 "nbformat_minor": 5
}
