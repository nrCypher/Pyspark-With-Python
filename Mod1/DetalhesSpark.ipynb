{
 "cells": [
  {
   "cell_type": "code",
   "execution_count": 1,
   "id": "9831b2d5-95f8-4afd-a800-9c89dc2aeb9a",
   "metadata": {},
   "outputs": [
    {
     "name": "stdout",
     "output_type": "stream",
     "text": [
      "Número de nós do cluster: 16\n",
      "Versão do Spark: 3.5.0\n",
      "Nome do cluster: CSVExample\n",
      "Master URL: local[*]\n"
     ]
    }
   ],
   "source": [
    "from pyspark.sql import SparkSession\n",
    "\n",
    "# Criar uma sessão Spark\n",
    "# A SparkSession é o ponto de entrada para trabalhar com DataFrames no PySpark\n",
    "spark = SparkSession.builder.appName(\"CSVExample\").getOrCreate()\n",
    "\n",
    "# Criar o contexto Spark\n",
    "# O SparkContext permite interagir diretamente com a engine do Spark\n",
    "sc = spark.sparkContext\n",
    "\n",
    "# Exibir algumas informações sobre o ambiente Spark\n",
    "print(\"Número de nós do cluster:\", sc.defaultParallelism)\n",
    "print(\"Versão do Spark:\", spark.version)\n",
    "print(\"Nome do cluster:\", sc.appName)\n",
    "print(\"Master URL:\", sc.master)\n"
   ]
  },
  {
   "cell_type": "code",
   "execution_count": null,
   "id": "d22beda7-162d-43d2-ae73-17f0952fe8bb",
   "metadata": {},
   "outputs": [],
   "source": []
  }
 ],
 "metadata": {
  "kernelspec": {
   "display_name": "Python 3 (ipykernel)",
   "language": "python",
   "name": "python3"
  },
  "language_info": {
   "codemirror_mode": {
    "name": "ipython",
    "version": 3
   },
   "file_extension": ".py",
   "mimetype": "text/x-python",
   "name": "python",
   "nbconvert_exporter": "python",
   "pygments_lexer": "ipython3",
   "version": "3.11.6"
  }
 },
 "nbformat": 4,
 "nbformat_minor": 5
}
