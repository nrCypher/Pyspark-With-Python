{
 "cells": [
  {
   "cell_type": "markdown",
   "id": "4e37e692",
   "metadata": {},
   "source": [
    "# Exercicios 1"
   ]
  },
  {
   "cell_type": "markdown",
   "id": "f33dab5e",
   "metadata": {},
   "source": [
    "Vocês são cientistas de dados em uma empresa que está analisando dados de vendas de uma loja de varejo. O objetivo é realizar algumas análises iniciais usando o PySpark DataFrame para entender melhor os dados.\n",
    "\n",
    "Leitura do Conjunto de Dados:\n",
    "Vocês receberam um arquivo CSV chamado \"vendas.csv\" que contém os dados das vendas da loja. Este arquivo está localizado no diretório \"/caminho/para/o/arquivo/vendas.csv\" no sistema de arquivos.\n",
    "\n",
    "Utilizem o PySpark para ler esse arquivo e criar um DataFrame.\n",
    "\n",
    "Verificação dos Tipos de Dados das Colunas (Esquema):\n",
    "Após ler o arquivo, verifiquem o esquema do DataFrame para entender quais são os tipos de dados de cada coluna.\n",
    "\n",
    "Seleção de Colunas e Indexação:\n",
    "Selecione as seguintes colunas do DataFrame: \"data_venda\", \"produto\", \"quantidade\", \"preco_unitario\". Além disso, indexem o DataFrame pelo número da venda.\n",
    "\n",
    "Descrição dos Dados (Similar ao Describe do Pandas):\n",
    "Utilizem a função describe() para obter estatísticas descritivas das colunas numéricas do DataFrame, como média, desvio padrão, mínimo, máximo, etc.\n",
    "\n",
    "Adição de Colunas:\n",
    "Adicionem uma nova coluna ao DataFrame chamada \"total_venda\", que representará o valor total de cada venda (quantidade * preço unitário).\n",
    "\n",
    "Remoção de Colunas:\n",
    "Removam a coluna \"preco_unitario\" do DataFrame, pois ela não será mais necessária para as análises subsequentes.\n",
    "\n",
    "Renomeação de Colunas:\n",
    "Renomeiem a coluna \"produto\" para \"nome_produto\" e a coluna \"quantidade\" para \"qtd_vendida\".\n",
    "\n",
    "Instruções adicionais:\n",
    "\n",
    "Certifiquem-se de importar corretamente todas as bibliotecas necessárias do PySpark.\n",
    "Documentem cada passo do processo utilizando comentários no código.\n",
    "Testem cada operação para garantir que o DataFrame está sendo manipulado corretamente.\n"
   ]
  },
  {
   "cell_type": "markdown",
   "id": "09e097a8",
   "metadata": {},
   "source": [
    "# Resolução"
   ]
  },
  {
   "cell_type": "code",
   "execution_count": 1,
   "metadata": {},
   "outputs": [],
   "source": [
    "# Importar as bibliotecas necessárias do PySpark\n",
    "from pyspark.sql import SparkSession\n",
    "from pyspark.sql.functions import col"
   ]
  },
  {
   "cell_type": "code",
   "execution_count": 2,
   "metadata": {},
   "outputs": [],
   "source": [
    "# Iniciar a sessão do Spark\n",
    "spark = SparkSession.builder \\\n",
    "    .appName(\"ExercicioPySpark\") \\\n",
    "    .getOrCreate()"
   ]
  },
  {
   "cell_type": "code",
   "execution_count": 3,
   "metadata": {},
   "outputs": [],
   "source": [
    "# 1. Leitura do Conjunto de Dados\n",
    "# Substitua \"caminho_para_o_arquivo\" pelo caminho onde o arquivo \"vendas.csv\" está localizado\n",
    "df = spark.read.csv(\"caminho_para_o_arquivo/vendas.csv\", header=True, inferSchema=True)"
   ]
  },
  {
   "cell_type": "code",
   "execution_count": 4,
   "metadata": {},
   "outputs": [],
   "source": [
    "# 2. Verificação dos Tipos de Dados das Colunas (Esquema)\n",
    "df.printSchema()"
   ]
  },
  {
   "cell_type": "code",
   "execution_count": 5,
   "metadata": {},
   "outputs": [],
   "source": [
    "# 3. Seleção de Colunas e Indexação\n",
    "df_indexado = df.withColumn(\"numero_venda\", col(\"numero_venda\").cast(\"int\"))  # Garantir que o número da venda é do tipo inteiro\n",
    "df_selecionado = df_indexado.select(\"data_venda\", \"produto\", \"quantidade\", \"preco_unitario\", \"numero_venda\")"
   ]
  },
  {
   "cell_type": "code",
   "execution_count": 6,
   "metadata": {},
   "outputs": [],
   "source": [
    "# 4. Descrição dos Dados (Similar ao Describe do Pandas)\n",
    "df_selecionado.describe().show()"
   ]
  },
  {
   "cell_type": "code",
   "execution_count": 7,
   "metadata": {},
   "outputs": [],
   "source": [
    "# 5. Adição de Colunas\n",
    "df_total_venda = df_selecionado.withColumn(\"total_venda\", col(\"quantidade\") * col(\"preco_unitario\"))"
   ]
  },
  {
   "cell_type": "code",
   "execution_count": 8,
   "metadata": {},
   "outputs": [],
   "source": [
    "# 6. Remoção de Colunas\n",
    "df_sem_preco_unitario = df_total_venda.drop(\"preco_unitario\")"
   ]
  },
  {
   "cell_type": "code",
   "execution_count": 9,
   "metadata": {},
   "outputs": [],
   "source": [
    "# 7. Renomeação de Colunas\n",
    "df_renomeado = df_sem_preco_unitario.withColumnRenamed(\"produto\", \"nome_produto\") \\\n",
    "    .withColumnRenamed(\"quantidade\", \"qtd_vendida\")"
   ]
  },
  {
   "cell_type": "code",
   "execution_count": 10,
   "metadata": {},
   "outputs": [],
   "source": [
    "# Exibir o DataFrame final\n",
    "df_renomeado.show()"
   ]
  },
  {
   "cell_type": "code",
   "execution_count": null,
   "metadata": {},
   "outputs": [],
   "source": [
    "# Encerrar a sessão do Spark\n",
    "spark.stop()"
   ]
  }
 ],
 "metadata": {
  "kernelspec": {
   "display_name": "Python 3",
   "language": "python",
   "name": "python3"
  },
  "language_info": {
   "codemirror_mode": {
    "name": "ipython",
    "version": 3
   },
   "file_extension": ".py",
   "mimetype": "text/x-python",
   "name": "python",
   "nbconvert_exporter": "python",
   "pygments_lexer": "ipython3",
   "version": "3.9.1"
  }
 },
 "nbformat": 4,
 "nbformat_minor": 5
}
