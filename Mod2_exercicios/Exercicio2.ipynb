{
 "cells": [
  {
   "cell_type": "code",
   "execution_count": 1,
   "id": "6a39c8be-4b6e-495d-a698-d027afefb26a",
   "metadata": {},
   "outputs": [],
   "source": [
    "# Importar bibliotecas\n",
    "from pyspark.sql import SparkSession\n",
    "\n",
    "# Criar sessão do Spark\n",
    "spark = SparkSession.builder.appName(\"Ecommerce_Analysis\").getOrCreate()\n",
    "\n",
    "# Criar dados das compras\n",
    "dados = [\n",
    "    (1, 'Alice Silva', 'Notebook Dell', 'Eletrónicos', 4500.0, 1, 'Cartão de Crédito'),\n",
    "    (2, 'João Pedro', 'Mouse Logitech', 'Eletrónicos', 150.0, 2, 'Boleto'),\n",
    "    (3, 'Maria Souza', 'Geladeira Brastemp', 'Eletrodomésticos', 3200.0, 1, 'Pix'),\n",
    "    (4, 'Bruno Lima', 'Celular Samsung', 'Eletrónicos', 2500.0, 1, 'Cartão de Crédito'),\n",
    "    (5, 'Camila Rocha', 'Cadeira Gamer', 'Móveis', 1200.0, 1, 'Boleto')\n",
    "]\n",
    "\n",
    "# Definir os nomes das colunas\n",
    "colunas = [\"id_compra\", \"cliente\", \"produto\", \"categoria\", \"preco\", \"quantidade\", \"metodo_pagamento\"]\n",
    "\n",
    "# Criar DataFrame\n",
    "df = spark.createDataFrame(dados, colunas)\n",
    "\n",
    "# Criar uma tabela temporária\n",
    "df.createOrReplaceTempView(\"compras\")"
   ]
  },
  {
   "cell_type": "code",
   "execution_count": null,
   "id": "686697db-191f-43c2-83dd-2049b39819b0",
   "metadata": {},
   "outputs": [],
   "source": []
  },
  {
   "cell_type": "code",
   "execution_count": 2,
   "id": "71bf03cd-7b1a-415d-a78a-51a5f2fdda1a",
   "metadata": {},
   "outputs": [],
   "source": [
    "# Perguntas para os alunos:\n",
    "# 1. Liste todas as compras feitas por clientes que pagaram com \"Cartão de Crédito\".\n",
    "# 2. Ordene as compras pelos preços dos produtos em ordem decrescente.\n",
    "# 3. Calcule o valor total gasto por cada cliente.\n",
    "# 4. Conte quantas compras foram feitas por categoria de produto.\n",
    "# 5. Adicione uma nova coluna `valor_total` (preco * quantidade)."
   ]
  },
  {
   "cell_type": "code",
   "execution_count": null,
   "id": "4b546781-6751-4ae6-a9f6-921cd0aa8695",
   "metadata": {},
   "outputs": [],
   "source": [
    "# a) Listar todas as compras feitas por clientes que pagaram com \"Cartão de Crédito\"\n",
    "spark.sql(\"\"\"\n",
    "    SELECT * FROM compras\n",
    "    WHERE metodo_pagamento = 'Cartão de Crédito'\n",
    "\"\"\").show()"
   ]
  },
  {
   "cell_type": "code",
   "execution_count": null,
   "id": "80cce07f-ef2f-4efb-9550-ad867b58da07",
   "metadata": {},
   "outputs": [],
   "source": [
    "# b) Ordenar as compras pelos preços dos produtos em ordem decrescente\n",
    "spark.sql(\"\"\"\n",
    "    SELECT * FROM compras\n",
    "    ORDER BY preco DESC\n",
    "\"\"\").show()"
   ]
  },
  {
   "cell_type": "code",
   "execution_count": null,
   "id": "942cbad7-2049-4f4e-8322-f5c4dcd085e5",
   "metadata": {},
   "outputs": [],
   "source": [
    "# c) Calcular o valor total gasto por cada cliente\n",
    "spark.sql(\"\"\"\n",
    "    SELECT cliente, SUM(preco * quantidade) AS valor_total\n",
    "    FROM compras\n",
    "    GROUP BY cliente\n",
    "\"\"\").show()"
   ]
  },
  {
   "cell_type": "code",
   "execution_count": null,
   "id": "fa743482-0b44-4255-b78b-26814acd5862",
   "metadata": {},
   "outputs": [],
   "source": [
    "# d) Contar quantas compras foram feitas por categoria de produto\n",
    "\n",
    "spark.sql(\"\"\"\n",
    "    SELECT categoria, COUNT(*) AS total_compras\n",
    "    FROM compras\n",
    "    GROUP BY categoria\n",
    "\"\"\").show()"
   ]
  },
  {
   "cell_type": "code",
   "execution_count": null,
   "id": "948d94b9-6d29-4d98-9bdf-3fc78244becd",
   "metadata": {},
   "outputs": [],
   "source": [
    "# e) Adicionar uma nova coluna `valor_total` (preco * quantidade)\n",
    "spark.sql(\"\"\"\n",
    "    SELECT *, (preco * quantidade) AS valor_total\n",
    "    FROM compras\n",
    "\"\"\").show()"
   ]
  }
 ],
 "metadata": {
  "kernelspec": {
   "display_name": "Python 3 (ipykernel)",
   "language": "python",
   "name": "python3"
  },
  "language_info": {
   "codemirror_mode": {
    "name": "ipython",
    "version": 3
   },
   "file_extension": ".py",
   "mimetype": "text/x-python",
   "name": "python",
   "nbconvert_exporter": "python",
   "pygments_lexer": "ipython3",
   "version": "3.11.6"
  }
 },
 "nbformat": 4,
 "nbformat_minor": 5
}
