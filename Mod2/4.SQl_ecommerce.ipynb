{
 "cells": [
  {
   "cell_type": "code",
   "execution_count": 1,
   "id": "b899cd60-5795-4803-8212-a511460f35d1",
   "metadata": {},
   "outputs": [
    {
     "data": {
      "text/plain": [
       "DataFrame[]"
      ]
     },
     "execution_count": 1,
     "metadata": {},
     "output_type": "execute_result"
    }
   ],
   "source": [
    "# Importar bibliotecas\n",
    "from pyspark.sql import SparkSession\n",
    "\n",
    "# Criar sessão do Spark com suporte ao Hive\n",
    "spark = SparkSession.builder \\\n",
    "    .appName(\"Ecommerce_Analysis\") \\\n",
    "    .enableHiveSupport() \\\n",
    "    .getOrCreate()\n",
    "\n",
    "# Criar o banco de dados se não existir\n",
    "spark.sql(\"CREATE DATABASE IF NOT EXISTS ecommerce\")\n",
    "\n",
    "# Selecionar o banco de dados\n",
    "spark.sql(\"USE ecommerce\")\n"
   ]
  },
  {
   "cell_type": "code",
   "execution_count": 2,
   "id": "9b37eca0-fa41-43d0-a67c-536c6ac7859c",
   "metadata": {},
   "outputs": [
    {
     "data": {
      "text/plain": [
       "DataFrame[]"
      ]
     },
     "execution_count": 2,
     "metadata": {},
     "output_type": "execute_result"
    }
   ],
   "source": [
    "# Criar a tabela permanente no Hive\n",
    "spark.sql(\"\"\"\n",
    "    CREATE TABLE IF NOT EXISTS compras (\n",
    "        id_compra INT,\n",
    "        cliente STRING,\n",
    "        produto STRING,\n",
    "        categoria STRING,\n",
    "        preco DOUBLE,\n",
    "        quantidade INT,\n",
    "        metodo_pagamento STRING\n",
    "    ) USING PARQUET\n",
    "\"\"\")"
   ]
  },
  {
   "cell_type": "code",
   "execution_count": null,
   "id": "aa692a6b-553f-4135-8798-5971db171b33",
   "metadata": {},
   "outputs": [],
   "source": [
    "# Criar dados das compras\n",
    "dados = [\n",
    "    (1, 'Alice Silva', 'Notebook Dell', 'Eletrónicos', 4500.0, 1, 'Cartão de Crédito'),\n",
    "    (2, 'João Pedro', 'Mouse Logitech', 'Eletrónicos', 150.0, 2, 'Boleto'),\n",
    "    (3, 'Maria Souza', 'Geladeira Brastemp', 'Eletrodomésticos', 3200.0, 1, 'Pix'),\n",
    "    (4, 'Bruno Lima', 'Celular Samsung', 'Eletrónicos', 2500.0, 1, 'Cartão de Crédito'),\n",
    "    (5, 'Camila Rocha', 'Cadeira Gamer', 'Móveis', 1200.0, 1, 'Boleto')\n",
    "]\n",
    "\n",
    "# Definir os nomes das colunas\n",
    "colunas = [\"id_compra\", \"cliente\", \"produto\", \"categoria\", \"preco\", \"quantidade\", \"metodo_pagamento\"]\n",
    "\n",
    "# Criar DataFrame\n",
    "df = spark.createDataFrame(dados, colunas)\n",
    "\n",
    "# Gravar os dados na tabela Hive\n",
    "df.write.mode(\"overwrite\").saveAsTable(\"ecommerce.compras\")"
   ]
  },
  {
   "cell_type": "code",
   "execution_count": null,
   "id": "7a7c4a1f-383c-4e29-8e79-bdd57c57d373",
   "metadata": {},
   "outputs": [],
   "source": [
    "# a) Listar todas as compras feitas por clientes que compraram mais de uma unidade de um produto\n",
    "spark.sql(\"\"\"\n",
    "    SELECT * FROM compras\n",
    "    WHERE quantidade > 1\n",
    "\"\"\").show()"
   ]
  }
 ],
 "metadata": {
  "kernelspec": {
   "display_name": "Python 3 (ipykernel)",
   "language": "python",
   "name": "python3"
  },
  "language_info": {
   "codemirror_mode": {
    "name": "ipython",
    "version": 3
   },
   "file_extension": ".py",
   "mimetype": "text/x-python",
   "name": "python",
   "nbconvert_exporter": "python",
   "pygments_lexer": "ipython3",
   "version": "3.11.6"
  }
 },
 "nbformat": 4,
 "nbformat_minor": 5
}
