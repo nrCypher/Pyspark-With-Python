{
 "cells": [
  {
   "cell_type": "code",
   "execution_count": 14,
   "id": "264a0168-a17c-4c64-b985-e0f9d3b7f37c",
   "metadata": {},
   "outputs": [],
   "source": [
    "from pyspark.sql import SparkSession\n",
    "import json\n",
    "\n",
    "#importar este CVS\n",
    "import csv"
   ]
  },
  {
   "cell_type": "code",
   "execution_count": 15,
   "id": "7784b406-4213-43c8-8729-8526011f6a1b",
   "metadata": {},
   "outputs": [],
   "source": [
    "\n",
    "# Criar uma sessão Spark\n",
    "spark = SparkSession.builder.appName(\"CSVExample\").getOrCreate()"
   ]
  },
  {
   "cell_type": "code",
   "execution_count": 16,
   "id": "a237f81e-82be-4f5b-8402-2ca787c6db96",
   "metadata": {},
   "outputs": [],
   "source": [
    "# Read um CVS\n",
    "csv_filename = \"Aula 2/CSV/review.csv\"\n",
    "df = spark.read.csv(csv_filename, header=True, inferSchema=True)\n"
   ]
  },
  {
   "cell_type": "code",
   "execution_count": 17,
   "id": "d6f178f7-903c-4d07-8470-902c0aef8e38",
   "metadata": {},
   "outputs": [
    {
     "name": "stdout",
     "output_type": "stream",
     "text": [
      "+--------------------+--------------------+--------------------+-------------------+----------------------+\n",
      "|                 App|   Translated_Review|           Sentiment| Sentiment_Polarity|Sentiment_Subjectivity|\n",
      "+--------------------+--------------------+--------------------+-------------------+----------------------+\n",
      "|10 Best Foods for...|\"I like eat delic...| also \"\"Best Befo...|           Positive|                   1.0|\n",
      "|10 Best Foods for...|This help eating ...|            Positive|               0.25|   0.28846153846153844|\n",
      "|10 Best Foods for...|                 nan|                 nan|                nan|                   nan|\n",
      "|10 Best Foods for...|Works great espec...|            Positive|                0.4|                 0.875|\n",
      "|10 Best Foods for...|        Best idea us|            Positive|                1.0|                   0.3|\n",
      "|10 Best Foods for...|            Best way|            Positive|                1.0|                   0.3|\n",
      "|10 Best Foods for...|             Amazing|            Positive| 0.6000000000000001|                   0.9|\n",
      "|10 Best Foods for...|                 nan|                 nan|                nan|                   nan|\n",
      "|10 Best Foods for...|Looking forward app,|             Neutral|                0.0|                   0.0|\n",
      "|10 Best Foods for...|It helpful site !...|             Neutral|                0.0|                   0.0|\n",
      "|10 Best Foods for...|           good you.|            Positive|                0.7|    0.6000000000000001|\n",
      "|10 Best Foods for...|Useful informatio...|            Positive|                0.2|                   0.1|\n",
      "|10 Best Foods for...|Thank you! Great ...|            Positive|               0.75|                 0.875|\n",
      "|10 Best Foods for...|Greatest ever Com...|            Positive|          0.9921875|    0.8666666666666667|\n",
      "|10 Best Foods for...|Good health.........|            Positive| 0.5499999999999999|    0.5111111111111112|\n",
      "|10 Best Foods for...|                 nan|                 nan|                nan|                   nan|\n",
      "|10 Best Foods for...|Health It's impor...|            Positive|               0.45|                   1.0|\n",
      "|10 Best Foods for...|Mrs sunita bhati ...|            Positive|                0.6|    0.6666666666666666|\n",
      "|10 Best Foods for...|Very Useful in di...|            Positive|0.29500000000000004|                   0.1|\n",
      "|10 Best Foods for...|  One greatest apps.|            Positive|                1.0|                   1.0|\n",
      "+--------------------+--------------------+--------------------+-------------------+----------------------+\n",
      "only showing top 20 rows\n",
      "\n"
     ]
    }
   ],
   "source": [
    "# Mostrar os dados\n",
    "df.show()"
   ]
  },
  {
   "cell_type": "code",
   "execution_count": 18,
   "id": "4705fd83-79f2-41a4-a562-5ce2580b2e64",
   "metadata": {},
   "outputs": [],
   "source": [
    "\n",
    "# Criar uma sessão Spark\n",
    "spark = SparkSession.builder.appName(\"CSVExample\").getOrCreate()\n",
    "\n",
    "# Criar um ficheiro CSV\n",
    "data = [\n",
    "    [1, \"Alice\", 25],\n",
    "    [2, \"Bob\", 30],\n",
    "    [3, \"Carlos\", 22],\n",
    "    [4, \"Diana\", 28],\n",
    "    [5, \"Eva\", 35],\n",
    "    [6, \"Fernando\", 40]\n",
    "]"
   ]
  },
  {
   "cell_type": "code",
   "execution_count": 19,
   "id": "4f9001a6-5645-4287-94f4-213274c6d983",
   "metadata": {},
   "outputs": [],
   "source": [
    "# Cria um CVS\n",
    "csv_filename = \"dados.csv\"\n",
    "with open(csv_filename, mode=\"w\", newline=\"\", encoding=\"utf-8\") as file:\n",
    "    writer = csv.writer(file)\n",
    "    writer.writerow([\"id\", \"nome\", \"idade\"])\n",
    "    writer.writerows(data)\n"
   ]
  },
  {
   "cell_type": "code",
   "execution_count": 20,
   "id": "02483367-7a26-47a8-9f5a-1185106a1236",
   "metadata": {},
   "outputs": [],
   "source": [
    "# Carregar o CSV com PySpark\n",
    "df = spark.read.option(\"header\", \"true\").csv(csv_filename, inferSchema=True)"
   ]
  },
  {
   "cell_type": "code",
   "execution_count": 21,
   "id": "713dac84-1b7a-4583-b711-f7cae3295d6f",
   "metadata": {},
   "outputs": [
    {
     "name": "stdout",
     "output_type": "stream",
     "text": [
      "+---+--------+-----+\n",
      "| id|    nome|idade|\n",
      "+---+--------+-----+\n",
      "|  1|   Alice|   25|\n",
      "|  2|     Bob|   30|\n",
      "|  3|  Carlos|   22|\n",
      "|  4|   Diana|   28|\n",
      "|  5|     Eva|   35|\n",
      "|  6|Fernando|   40|\n",
      "+---+--------+-----+\n",
      "\n"
     ]
    }
   ],
   "source": [
    "# Mostrar os dados\n",
    "df.show()\n"
   ]
  },
  {
   "cell_type": "code",
   "execution_count": 22,
   "id": "87b0dadc-8ba5-4923-ab53-69a7f0227c08",
   "metadata": {},
   "outputs": [
    {
     "name": "stdout",
     "output_type": "stream",
     "text": [
      "+---+------+-----+\n",
      "| id|  nome|idade|\n",
      "+---+------+-----+\n",
      "|  1| Alice|   25|\n",
      "|  2|   Bob|   30|\n",
      "|  3|Carlos|   22|\n",
      "+---+------+-----+\n",
      "only showing top 3 rows\n",
      "\n"
     ]
    }
   ],
   "source": [
    "df.show(3)"
   ]
  },
  {
   "cell_type": "code",
   "execution_count": 23,
   "id": "38aaefa8-d96f-43e6-8baf-62663bfe2571",
   "metadata": {},
   "outputs": [
    {
     "name": "stdout",
     "output_type": "stream",
     "text": [
      "+---+------+-----+\n",
      "| id|  nome|idade|\n",
      "+---+------+-----+\n",
      "|  1| Alice|   25|\n",
      "|  2|   Bob|   30|\n",
      "|  3|Carlos|   22|\n",
      "|  4| Diana|   28|\n",
      "|  5|   Eva|   35|\n",
      "+---+------+-----+\n",
      "\n"
     ]
    }
   ],
   "source": [
    "# Mostrar o top 5\n",
    "df.limit(5).show()"
   ]
  },
  {
   "cell_type": "code",
   "execution_count": 24,
   "id": "90fed984-d409-4b5f-a5bd-4b34ad50c52c",
   "metadata": {},
   "outputs": [],
   "source": [
    "from pyspark.sql import SparkSession\n",
    "import json"
   ]
  },
  {
   "cell_type": "code",
   "execution_count": 25,
   "id": "675db36c-31e4-4a1d-9b88-f43bcd09236e",
   "metadata": {},
   "outputs": [],
   "source": [
    "\n",
    "# Criar uma sessão Spark\n",
    "spark = SparkSession.builder.appName(\"APP_JSONExample\").getOrCreate()\n",
    "\n",
    "# Criar um ficheiro JSON\n",
    "data = [\n",
    "    {\"id\": 1, \"nome\": \"Alice\", \"idade\": 25},\n",
    "    {\"id\": 2, \"nome\": \"Bob\", \"idade\": 30},\n",
    "    {\"id\": 3, \"nome\": \"Carlos\", \"idade\": 22},\n",
    "    {\"id\": 4, \"nome\": \"Diana\", \"idade\": 28},\n",
    "    {\"id\": 5, \"nome\": \"Eva\", \"idade\": 35},\n",
    "    {\"id\": 6, \"nome\": \"Fernando\", \"idade\": 40}\n",
    "]"
   ]
  },
  {
   "cell_type": "code",
   "execution_count": 26,
   "id": "b426ba7f-b8c8-45a6-86f1-abda104586cb",
   "metadata": {},
   "outputs": [],
   "source": [
    "json_filename = \"Aula 2/Json/dados.json\"\n",
    "with open(json_filename, \"w\") as f:\n",
    "    json.dump(data, f)"
   ]
  },
  {
   "cell_type": "code",
   "execution_count": null,
   "id": "4aa27731-3758-482c-890c-bba9e3b2b176",
   "metadata": {},
   "outputs": [],
   "source": []
  }
 ],
 "metadata": {
  "kernelspec": {
   "display_name": "Python 3 (ipykernel)",
   "language": "python",
   "name": "python3"
  },
  "language_info": {
   "codemirror_mode": {
    "name": "ipython",
    "version": 3
   },
   "file_extension": ".py",
   "mimetype": "text/x-python",
   "name": "python",
   "nbconvert_exporter": "python",
   "pygments_lexer": "ipython3",
   "version": "3.11.6"
  }
 },
 "nbformat": 4,
 "nbformat_minor": 5
}
