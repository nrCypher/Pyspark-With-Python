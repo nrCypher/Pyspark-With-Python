{
 "cells": [
  {
   "cell_type": "code",
   "execution_count": 1,
   "id": "d4b02977-eca2-4a17-869d-508bf2716ba0",
   "metadata": {},
   "outputs": [],
   "source": [
    "# Importar bibliotecas\n",
    "from pyspark.sql import SparkSession\n",
    "\n",
    "# Criar sessão do Spark\n",
    "spark = SparkSession.builder \\\n",
    "    .appName(\"Carros_Analysis\") \\\n",
    "    .getOrCreate()\n"
   ]
  },
  {
   "cell_type": "code",
   "execution_count": 2,
   "id": "cd2bcf7b-3269-426a-9e57-8720b5f7ccc3",
   "metadata": {},
   "outputs": [],
   "source": [
    "# Criar dados dos carros\n",
    "dados = [\n",
    "    (1, 'Tesla Model S', 'Tesla', 'Elétrico', 2022, 120000, 3.2),\n",
    "    (2, 'BMW M3', 'BMW', 'Gasolina', 2021, 85000, 4.1),\n",
    "    (3, 'Audi e-tron', 'Audi', 'Elétrico', 2023, 95000, 4.5),\n",
    "    (4, 'Mercedes C-Class', 'Mercedes', 'Gasolina', 2020, 60000, 5.0),\n",
    "    (5, 'Toyota Corolla', 'Toyota', 'Híbrido', 2019, 30000, 8.0)\n",
    "]\n",
    "\n",
    "# Def"
   ]
  },
  {
   "cell_type": "code",
   "execution_count": 3,
   "id": "03dca587-ca00-4268-9eb7-dfad24f663b3",
   "metadata": {},
   "outputs": [],
   "source": [
    "colunas = [\"id_carro\", \"modelo\", \"marca\", \"tipo\", \"ano\", \"preco\", \"aceleracao_0_100\"]"
   ]
  },
  {
   "cell_type": "code",
   "execution_count": 4,
   "id": "d9cf7dd1-fe12-4da1-a241-6ca8ce4e047c",
   "metadata": {},
   "outputs": [],
   "source": [
    "# Criar DataFrame\n",
    "df = spark.createDataFrame(dados, colunas)\n"
   ]
  },
  {
   "cell_type": "code",
   "execution_count": 10,
   "id": "aaf0b775-e4d4-4099-92c6-a912f1c5e2c7",
   "metadata": {},
   "outputs": [
    {
     "name": "stdout",
     "output_type": "stream",
     "text": [
      "+--------+----------------+--------+--------+----+------+----------------+\n",
      "|id_carro|          modelo|   marca|    tipo| ano| preco|aceleracao_0_100|\n",
      "+--------+----------------+--------+--------+----+------+----------------+\n",
      "|       1|   Tesla Model S|   Tesla|Elétrico|2022|120000|             3.2|\n",
      "|       2|          BMW M3|     BMW|Gasolina|2021| 85000|             4.1|\n",
      "|       3|     Audi e-tron|    Audi|Elétrico|2023| 95000|             4.5|\n",
      "|       4|Mercedes C-Class|Mercedes|Gasolina|2020| 60000|             5.0|\n",
      "|       5|  Toyota Corolla|  Toyota| Híbrido|2019| 30000|             8.0|\n",
      "+--------+----------------+--------+--------+----+------+----------------+\n",
      "\n"
     ]
    }
   ],
   "source": [
    "df.show()"
   ]
  },
  {
   "cell_type": "code",
   "execution_count": 6,
   "id": "f3276135-7b0f-4fac-8f32-71a5989ac688",
   "metadata": {},
   "outputs": [],
   "source": [
    "# Criar uma tabela temporária\n",
    "df.createOrReplaceTempView(\"carros\")"
   ]
  },
  {
   "cell_type": "code",
   "execution_count": 9,
   "id": "b6cef9ea-7d16-45f3-abb2-64c0d0b5d056",
   "metadata": {},
   "outputs": [
    {
     "name": "stdout",
     "output_type": "stream",
     "text": [
      "+--------+-------------+-----+--------+----+------+----------------+\n",
      "|id_carro|       modelo|marca|    tipo| ano| preco|aceleracao_0_100|\n",
      "+--------+-------------+-----+--------+----+------+----------------+\n",
      "|       1|Tesla Model S|Tesla|Elétrico|2022|120000|             3.2|\n",
      "|       3|  Audi e-tron| Audi|Elétrico|2023| 95000|             4.5|\n",
      "+--------+-------------+-----+--------+----+------+----------------+\n",
      "\n"
     ]
    }
   ],
   "source": [
    "spark.sql (\"\"\"\n",
    "    SELECT * FROM carros\n",
    "    WHERE tipo = 'Elétrico'\n",
    "\"\"\").show()"
   ]
  },
  {
   "cell_type": "code",
   "execution_count": 11,
   "id": "6cf4d836-3229-4ae8-838e-ffcf37c0f5b0",
   "metadata": {},
   "outputs": [
    {
     "name": "stdout",
     "output_type": "stream",
     "text": [
      "+--------+----------------+--------+--------+----+------+----------------+\n",
      "|id_carro|          modelo|   marca|    tipo| ano| preco|aceleracao_0_100|\n",
      "+--------+----------------+--------+--------+----+------+----------------+\n",
      "|       1|   Tesla Model S|   Tesla|Elétrico|2022|120000|             3.2|\n",
      "|       2|          BMW M3|     BMW|Gasolina|2021| 85000|             4.1|\n",
      "|       3|     Audi e-tron|    Audi|Elétrico|2023| 95000|             4.5|\n",
      "|       4|Mercedes C-Class|Mercedes|Gasolina|2020| 60000|             5.0|\n",
      "|       5|  Toyota Corolla|  Toyota| Híbrido|2019| 30000|             8.0|\n",
      "+--------+----------------+--------+--------+----+------+----------------+\n",
      "\n"
     ]
    }
   ],
   "source": [
    "df.show()"
   ]
  },
  {
   "cell_type": "code",
   "execution_count": 12,
   "id": "3ac19418-582d-42f3-99fe-ba9a10d18811",
   "metadata": {},
   "outputs": [
    {
     "name": "stdout",
     "output_type": "stream",
     "text": [
      "+--------+----------------+--------+--------+----+------+----------------+\n",
      "|id_carro|          modelo|   marca|    tipo| ano| preco|aceleracao_0_100|\n",
      "+--------+----------------+--------+--------+----+------+----------------+\n",
      "|       1|   Tesla Model S|   Tesla|Elétrico|2022|120000|             3.2|\n",
      "|       3|     Audi e-tron|    Audi|Elétrico|2023| 95000|             4.5|\n",
      "|       2|          BMW M3|     BMW|Gasolina|2021| 85000|             4.1|\n",
      "|       4|Mercedes C-Class|Mercedes|Gasolina|2020| 60000|             5.0|\n",
      "|       5|  Toyota Corolla|  Toyota| Híbrido|2019| 30000|             8.0|\n",
      "+--------+----------------+--------+--------+----+------+----------------+\n",
      "\n"
     ]
    }
   ],
   "source": [
    "spark.sql(\"\"\"\n",
    "    SELECT * FROM carros\n",
    "    ORDER BY preco DESC\n",
    "\"\"\").show()"
   ]
  },
  {
   "cell_type": "code",
   "execution_count": 13,
   "id": "0fda1bc9-d9d9-4367-b255-7d79277d9d06",
   "metadata": {},
   "outputs": [
    {
     "name": "stdout",
     "output_type": "stream",
     "text": [
      "+--------+----------------+--------+--------+----+------+----------------+\n",
      "|id_carro|          modelo|   marca|    tipo| ano| preco|aceleracao_0_100|\n",
      "+--------+----------------+--------+--------+----+------+----------------+\n",
      "|       1|   Tesla Model S|   Tesla|Elétrico|2022|120000|             3.2|\n",
      "|       2|          BMW M3|     BMW|Gasolina|2021| 85000|             4.1|\n",
      "|       3|     Audi e-tron|    Audi|Elétrico|2023| 95000|             4.5|\n",
      "|       4|Mercedes C-Class|Mercedes|Gasolina|2020| 60000|             5.0|\n",
      "|       5|  Toyota Corolla|  Toyota| Híbrido|2019| 30000|             8.0|\n",
      "+--------+----------------+--------+--------+----+------+----------------+\n",
      "\n"
     ]
    }
   ],
   "source": [
    "df.show()"
   ]
  },
  {
   "cell_type": "code",
   "execution_count": 16,
   "id": "a0c1ebe6-4a78-44c8-83ee-94ac5a502710",
   "metadata": {},
   "outputs": [
    {
     "name": "stdout",
     "output_type": "stream",
     "text": [
      "+-----+-------------+\n",
      "|marca|       modelo|\n",
      "+-----+-------------+\n",
      "|Tesla|Tesla Model S|\n",
      "+-----+-------------+\n",
      "\n"
     ]
    }
   ],
   "source": [
    "spark.sql(\"\"\"\n",
    "    SELECT marca, modelo FROM carros\n",
    "    ORDER BY preco DESC\n",
    "    LIMIT 1\n",
    "\"\"\").show()"
   ]
  },
  {
   "cell_type": "code",
   "execution_count": null,
   "id": "dbd99793-3a42-4a5f-acfd-9818ce0230c7",
   "metadata": {},
   "outputs": [],
   "source": [
    "# 1. Liste todos os carros elétricos disponíveis.\n",
    "# 2. Ordene os carros pelo preço em ordem decrescente.\n",
    "# 3. Calcule a média de aceleração (0-100 km/h) por tipo de combustível.\n",
    "# 4. Identifique a marca com o carro mais caro.\n",
    "# 5. Filtre os carros que tenham um tempo de aceleração inferior a 5 segundos."
   ]
  }
 ],
 "metadata": {
  "kernelspec": {
   "display_name": "Python 3 (ipykernel)",
   "language": "python",
   "name": "python3"
  },
  "language_info": {
   "codemirror_mode": {
    "name": "ipython",
    "version": 3
   },
   "file_extension": ".py",
   "mimetype": "text/x-python",
   "name": "python",
   "nbconvert_exporter": "python",
   "pygments_lexer": "ipython3",
   "version": "3.11.6"
  }
 },
 "nbformat": 4,
 "nbformat_minor": 5
}
