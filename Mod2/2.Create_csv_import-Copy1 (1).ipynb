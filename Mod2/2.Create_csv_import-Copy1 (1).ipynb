{
 "cells": [
  {
   "cell_type": "code",
   "execution_count": 2,
   "id": "8197ee4e-426d-4f4b-8ea0-50e4507e037d",
   "metadata": {},
   "outputs": [],
   "source": [
    "from pyspark.sql import SparkSession\n",
    "import json"
   ]
  },
  {
   "cell_type": "code",
   "execution_count": 9,
   "id": "a6a1884f-825d-4c74-8240-d07d04983e5b",
   "metadata": {},
   "outputs": [],
   "source": [
    "\n",
    "# Criar uma sessão Spark\n",
    "spark = SparkSession.builder.appName(\"CSVExample\").getOrCreate()\n",
    "\n",
    "# Criar um ficheiro CSV\n",
    "data = [\n",
    "    [1, \"Alice\", 25],\n",
    "    [2, \"Bob\", 30],\n",
    "    [3, \"Carlos\", 22],\n",
    "    [4, \"Diana\", 28],\n",
    "    [5, \"Eva\", 35],\n",
    "    [6, \"Fernando\", 40]\n",
    "]"
   ]
  },
  {
   "cell_type": "code",
   "execution_count": 16,
   "id": "6d9e8654-e036-457a-99cc-92fc2fd720da",
   "metadata": {},
   "outputs": [
    {
     "ename": "NameError",
     "evalue": "name 'csv' is not defined",
     "output_type": "error",
     "traceback": [
      "\u001b[0;31m---------------------------------------------------------------------------\u001b[0m",
      "\u001b[0;31mNameError\u001b[0m                                 Traceback (most recent call last)",
      "Cell \u001b[0;32mIn[16], line 4\u001b[0m\n\u001b[1;32m      2\u001b[0m csv_filename \u001b[38;5;241m=\u001b[39m \u001b[38;5;124m\"\u001b[39m\u001b[38;5;124mdados.csv\u001b[39m\u001b[38;5;124m\"\u001b[39m\n\u001b[1;32m      3\u001b[0m \u001b[38;5;28;01mwith\u001b[39;00m \u001b[38;5;28mopen\u001b[39m(csv_filename, mode\u001b[38;5;241m=\u001b[39m\u001b[38;5;124m\"\u001b[39m\u001b[38;5;124mw\u001b[39m\u001b[38;5;124m\"\u001b[39m, newline\u001b[38;5;241m=\u001b[39m\u001b[38;5;124m\"\u001b[39m\u001b[38;5;124m\"\u001b[39m, encoding\u001b[38;5;241m=\u001b[39m\u001b[38;5;124m\"\u001b[39m\u001b[38;5;124mutf-8\u001b[39m\u001b[38;5;124m\"\u001b[39m) \u001b[38;5;28;01mas\u001b[39;00m file:\n\u001b[0;32m----> 4\u001b[0m     writer \u001b[38;5;241m=\u001b[39m \u001b[43mcsv\u001b[49m\u001b[38;5;241m.\u001b[39mwriter(file)\n\u001b[1;32m      5\u001b[0m     writer\u001b[38;5;241m.\u001b[39mwriterow([\u001b[38;5;124m\"\u001b[39m\u001b[38;5;124mid\u001b[39m\u001b[38;5;124m\"\u001b[39m, \u001b[38;5;124m\"\u001b[39m\u001b[38;5;124mnome\u001b[39m\u001b[38;5;124m\"\u001b[39m, \u001b[38;5;124m\"\u001b[39m\u001b[38;5;124midade\u001b[39m\u001b[38;5;124m\"\u001b[39m])\n\u001b[1;32m      6\u001b[0m     writer\u001b[38;5;241m.\u001b[39mwriterows(data)\n",
      "\u001b[0;31mNameError\u001b[0m: name 'csv' is not defined"
     ]
    }
   ],
   "source": [
    "# Cria um CVS\n",
    "csv_filename = \"dados.csv\"\n",
    "with open(csv_filename, mode=\"w\", newline=\"\", encoding=\"utf-8\") as file:\n",
    "    writer = csv.writer(file)\n",
    "    writer.writerow([\"id\", \"nome\", \"idade\"])\n",
    "    writer.writerows(data)\n"
   ]
  },
  {
   "cell_type": "code",
   "execution_count": 15,
   "id": "d13014a1-fd09-4139-ac64-01abca7abffe",
   "metadata": {},
   "outputs": [],
   "source": [
    "# Carregar o CSV com PySpark\n",
    "df = spark.read.option(\"header\", \"true\").csv(csv_filename, inferSchema=True)\n"
   ]
  },
  {
   "cell_type": "code",
   "execution_count": null,
   "id": "9a713c07-9d8e-4fe9-ac86-04332ebf93d5",
   "metadata": {},
   "outputs": [],
   "source": [
    "# Mostrar os dados\n",
    "df.show()"
   ]
  },
  {
   "cell_type": "code",
   "execution_count": null,
   "id": "84694023-496b-4d85-8ef2-a1837e100c8e",
   "metadata": {},
   "outputs": [],
   "source": [
    "# Mostrar o top 5\n",
    "df.limit(5).show()"
   ]
  },
  {
   "cell_type": "code",
   "execution_count": 23,
   "id": "6b9ea12a-77ee-4d89-a77e-5528c09a4c5e",
   "metadata": {},
   "outputs": [
    {
     "name": "stdout",
     "output_type": "stream",
     "text": [
      "+---+-----+------+\n",
      "| id|idade|  nome|\n",
      "+---+-----+------+\n",
      "|  1|   25| Alice|\n",
      "|  2|   30|   Bob|\n",
      "|  3|   22|Carlos|\n",
      "|  4|   28| Diana|\n",
      "|  5|   35|   Eva|\n",
      "+---+-----+------+\n",
      "only showing top 5 rows\n",
      "\n"
     ]
    }
   ],
   "source": [
    "# Mostrar o top 5\n",
    "df.sort(\"id\").show(5)"
   ]
  },
  {
   "cell_type": "code",
   "execution_count": null,
   "id": "811aaf4a-77d8-4db5-9361-f4ded7d9dba3",
   "metadata": {},
   "outputs": [],
   "source": []
  },
  {
   "cell_type": "code",
   "execution_count": null,
   "id": "5f808ed7-f9ed-4e9e-8ba1-e4a78642b21e",
   "metadata": {},
   "outputs": [],
   "source": []
  }
 ],
 "metadata": {
  "kernelspec": {
   "display_name": "Python 3 (ipykernel)",
   "language": "python",
   "name": "python3"
  },
  "language_info": {
   "codemirror_mode": {
    "name": "ipython",
    "version": 3
   },
   "file_extension": ".py",
   "mimetype": "text/x-python",
   "name": "python",
   "nbconvert_exporter": "python",
   "pygments_lexer": "ipython3",
   "version": "3.11.6"
  }
 },
 "nbformat": 4,
 "nbformat_minor": 5
}
