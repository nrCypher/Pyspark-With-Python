{
 "cells": [
  {
   "cell_type": "code",
   "execution_count": 2,
   "id": "8197ee4e-426d-4f4b-8ea0-50e4507e037d",
   "metadata": {},
   "outputs": [],
   "source": [
    "from pyspark.sql import SparkSession\n",
    "import json"
   ]
  },
  {
   "cell_type": "code",
   "execution_count": 3,
   "id": "a6a1884f-825d-4c74-8240-d07d04983e5b",
   "metadata": {},
   "outputs": [],
   "source": [
    "\n",
    "# Criar uma sessão Spark\n",
    "spark = SparkSession.builder.appName(\"APP_JSONExample\").getOrCreate()\n",
    "\n",
    "# Criar um ficheiro JSON\n",
    "data = [\n",
    "    {\"id\": 1, \"nome\": \"Alice\", \"idade\": 25},\n",
    "    {\"id\": 2, \"nome\": \"Bob\", \"idade\": 30},\n",
    "    {\"id\": 3, \"nome\": \"Carlos\", \"idade\": 22},\n",
    "    {\"id\": 4, \"nome\": \"Diana\", \"idade\": 28},\n",
    "    {\"id\": 5, \"nome\": \"Eva\", \"idade\": 35},\n",
    "    {\"id\": 6, \"nome\": \"Fernando\", \"idade\": 40}\n",
    "]"
   ]
  },
  {
   "cell_type": "code",
   "execution_count": 4,
   "id": "6d9e8654-e036-457a-99cc-92fc2fd720da",
   "metadata": {},
   "outputs": [],
   "source": [
    "json_filename = \"Json/dados2.json\"\n",
    "with open(json_filename, \"w\") as f:\n",
    "    json.dump(data, f)"
   ]
  },
  {
   "cell_type": "code",
   "execution_count": 5,
   "id": "d13014a1-fd09-4139-ac64-01abca7abffe",
   "metadata": {},
   "outputs": [],
   "source": [
    "# Carregar o JSON com PySpark\n",
    "df = spark.read.json(json_filename)"
   ]
  },
  {
   "cell_type": "code",
   "execution_count": 6,
   "id": "9a713c07-9d8e-4fe9-ac86-04332ebf93d5",
   "metadata": {},
   "outputs": [
    {
     "name": "stdout",
     "output_type": "stream",
     "text": [
      "+---+-----+--------+\n",
      "| id|idade|    nome|\n",
      "+---+-----+--------+\n",
      "|  1|   25|   Alice|\n",
      "|  2|   30|     Bob|\n",
      "|  3|   22|  Carlos|\n",
      "|  4|   28|   Diana|\n",
      "|  5|   35|     Eva|\n",
      "|  6|   40|Fernando|\n",
      "+---+-----+--------+\n",
      "\n"
     ]
    }
   ],
   "source": [
    "# Mostrar os dados\n",
    "df.show()"
   ]
  },
  {
   "cell_type": "code",
   "execution_count": 22,
   "id": "84694023-496b-4d85-8ef2-a1837e100c8e",
   "metadata": {},
   "outputs": [
    {
     "name": "stdout",
     "output_type": "stream",
     "text": [
      "+---+-----+------+\n",
      "| id|idade|  nome|\n",
      "+---+-----+------+\n",
      "|  1|   25| Alice|\n",
      "|  2|   30|   Bob|\n",
      "|  3|   22|Carlos|\n",
      "|  4|   28| Diana|\n",
      "|  5|   35|   Eva|\n",
      "+---+-----+------+\n",
      "\n"
     ]
    }
   ],
   "source": [
    "# Mostrar o top 5\n",
    "df.limit(5).show()"
   ]
  },
  {
   "cell_type": "code",
   "execution_count": 23,
   "id": "6b9ea12a-77ee-4d89-a77e-5528c09a4c5e",
   "metadata": {},
   "outputs": [
    {
     "name": "stdout",
     "output_type": "stream",
     "text": [
      "+---+-----+------+\n",
      "| id|idade|  nome|\n",
      "+---+-----+------+\n",
      "|  1|   25| Alice|\n",
      "|  2|   30|   Bob|\n",
      "|  3|   22|Carlos|\n",
      "|  4|   28| Diana|\n",
      "|  5|   35|   Eva|\n",
      "+---+-----+------+\n",
      "only showing top 5 rows\n",
      "\n"
     ]
    }
   ],
   "source": [
    "# Mostrar o top 5\n",
    "df.sort(\"id\").show(5)"
   ]
  },
  {
   "cell_type": "code",
   "execution_count": null,
   "id": "811aaf4a-77d8-4db5-9361-f4ded7d9dba3",
   "metadata": {},
   "outputs": [],
   "source": []
  },
  {
   "cell_type": "code",
   "execution_count": null,
   "id": "5f808ed7-f9ed-4e9e-8ba1-e4a78642b21e",
   "metadata": {},
   "outputs": [],
   "source": []
  }
 ],
 "metadata": {
  "kernelspec": {
   "display_name": "Python 3 (ipykernel)",
   "language": "python",
   "name": "python3"
  },
  "language_info": {
   "codemirror_mode": {
    "name": "ipython",
    "version": 3
   },
   "file_extension": ".py",
   "mimetype": "text/x-python",
   "name": "python",
   "nbconvert_exporter": "python",
   "pygments_lexer": "ipython3",
   "version": "3.11.6"
  }
 },
 "nbformat": 4,
 "nbformat_minor": 5
}
