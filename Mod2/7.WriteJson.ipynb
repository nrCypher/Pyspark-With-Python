{
 "cells": [
  {
   "cell_type": "code",
   "execution_count": 1,
   "id": "8c65104e-1ffb-4274-bd7b-9cf894d43a33",
   "metadata": {},
   "outputs": [],
   "source": [
    "from pyspark.sql import SparkSession\n",
    "import json"
   ]
  },
  {
   "cell_type": "code",
   "execution_count": 2,
   "id": "e0b30d5c-552c-4344-a3bd-7f25e8885584",
   "metadata": {},
   "outputs": [],
   "source": [
    "\n",
    "# Criar uma sessão Spark\n",
    "spark = SparkSession.builder.appName(\"APP_JSONExample\").getOrCreate()\n",
    "\n",
    "# Criar um ficheiro JSON\n",
    "data = [\n",
    "    {\"id\": 1, \"nome\": \"Alice\", \"idade\": 25},\n",
    "    {\"id\": 2, \"nome\": \"Bob\", \"idade\": 30},\n",
    "    {\"id\": 3, \"nome\": \"Carlos\", \"idade\": 22},\n",
    "    {\"id\": 4, \"nome\": \"Diana\", \"idade\": 28},\n",
    "    {\"id\": 5, \"nome\": \"Eva\", \"idade\": 35},\n",
    "    {\"id\": 6, \"nome\": \"Fernando\", \"idade\": 40}\n",
    "]"
   ]
  },
  {
   "cell_type": "code",
   "execution_count": 4,
   "id": "9f8fee19-bb76-42e3-9e88-85db4c3d90f9",
   "metadata": {},
   "outputs": [],
   "source": [
    "json_filename = \"dados3.json\"\n",
    "with open(json_filename, \"w\") as f:\n",
    "    json.dump(data, f)"
   ]
  },
  {
   "cell_type": "code",
   "execution_count": 5,
   "id": "b95b73bb-c13d-4f5e-86b6-1fe4879cd4b1",
   "metadata": {},
   "outputs": [],
   "source": [
    "# Carregar o JSON com PySpark\n",
    "df = spark.read.json(json_filename)"
   ]
  },
  {
   "cell_type": "code",
   "execution_count": 6,
   "id": "e0e08e64-78d9-46a8-9d6b-36c6082e84af",
   "metadata": {},
   "outputs": [
    {
     "name": "stdout",
     "output_type": "stream",
     "text": [
      "+---+-----+--------+\n",
      "| id|idade|    nome|\n",
      "+---+-----+--------+\n",
      "|  1|   25|   Alice|\n",
      "|  2|   30|     Bob|\n",
      "|  3|   22|  Carlos|\n",
      "|  4|   28|   Diana|\n",
      "|  5|   35|     Eva|\n",
      "|  6|   40|Fernando|\n",
      "+---+-----+--------+\n",
      "\n"
     ]
    }
   ],
   "source": [
    "# Mostrar os dados\n",
    "df.show()"
   ]
  },
  {
   "cell_type": "code",
   "execution_count": 13,
   "id": "60bec723-db6b-4cf2-b0a4-45e5954e0973",
   "metadata": {},
   "outputs": [
    {
     "name": "stdout",
     "output_type": "stream",
     "text": [
      "3.5.0\n"
     ]
    }
   ],
   "source": [
    "from pyspark.sql import SparkSession\n",
    "\n",
    "# Criar a sessão do Spark\n",
    "spark = SparkSession.builder.appName(\"ExemploPySpark\").getOrCreate()\n",
    "\n",
    "# Verificar a versão do Spark\n",
    "print(spark.version)\n"
   ]
  },
  {
   "cell_type": "code",
   "execution_count": 14,
   "id": "f67ad953-273a-45af-bc0e-d26145f908fc",
   "metadata": {},
   "outputs": [
    {
     "name": "stdout",
     "output_type": "stream",
     "text": [
      "+------+-----+\n",
      "|  nome|idade|\n",
      "+------+-----+\n",
      "|   Ana|   25|\n",
      "| Bruno|   30|\n",
      "|Carlos|   35|\n",
      "+------+-----+\n",
      "\n"
     ]
    }
   ],
   "source": [
    "from pyspark.sql import Row\n",
    "\n",
    "# Criar uma lista de dados\n",
    "dados = [Row(nome=\"Ana\", idade=25), Row(nome=\"Bruno\", idade=30), Row(nome=\"Carlos\", idade=35)]\n",
    "\n",
    "# Criar um DataFrame\n",
    "df = spark.createDataFrame(dados)\n",
    "\n",
    "# Mostrar os dados\n",
    "df.show()\n"
   ]
  },
  {
   "cell_type": "code",
   "execution_count": 15,
   "id": "d4d7263e-77ad-45ef-80d4-a8ef7fd851f6",
   "metadata": {},
   "outputs": [
    {
     "name": "stdout",
     "output_type": "stream",
     "text": [
      "+---+--------+-----+\n",
      "| id|    nome|idade|\n",
      "+---+--------+-----+\n",
      "|  1|   Alice|   25|\n",
      "|  2|     Bob|   30|\n",
      "|  3|  Carlos|   22|\n",
      "|  4|   Diana|   28|\n",
      "|  5|     Eva|   35|\n",
      "|  6|Fernando|   40|\n",
      "+---+--------+-----+\n",
      "\n"
     ]
    }
   ],
   "source": [
    "df_csv = spark.read.csv(\"Aula 2/CSV/dados.csv\", header=True, inferSchema=True)\n",
    "df_csv.show()"
   ]
  },
  {
   "cell_type": "code",
   "execution_count": 17,
   "id": "ae2fe978-049d-4315-9b5e-33582ff66032",
   "metadata": {},
   "outputs": [
    {
     "name": "stdout",
     "output_type": "stream",
     "text": [
      "+------+\n",
      "|  nome|\n",
      "+------+\n",
      "|   Ana|\n",
      "| Bruno|\n",
      "|Carlos|\n",
      "+------+\n",
      "\n"
     ]
    }
   ],
   "source": [
    "df.select (\"nome\" ).show()"
   ]
  },
  {
   "cell_type": "code",
   "execution_count": null,
   "id": "287b632c-3d33-4f3a-881d-a17f4136c1a3",
   "metadata": {},
   "outputs": [],
   "source": []
  }
 ],
 "metadata": {
  "kernelspec": {
   "display_name": "Python 3 (ipykernel)",
   "language": "python",
   "name": "python3"
  },
  "language_info": {
   "codemirror_mode": {
    "name": "ipython",
    "version": 3
   },
   "file_extension": ".py",
   "mimetype": "text/x-python",
   "name": "python",
   "nbconvert_exporter": "python",
   "pygments_lexer": "ipython3",
   "version": "3.11.6"
  }
 },
 "nbformat": 4,
 "nbformat_minor": 5
}
