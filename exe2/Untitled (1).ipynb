{
 "cells": [
  {
   "cell_type": "code",
   "execution_count": 1,
   "id": "69e0fadb-4ffe-4cfa-9b25-817c7dfbe160",
   "metadata": {},
   "outputs": [],
   "source": [
    "from pyspark.sql import SparkSession\n",
    "\n",
    "# Criar a sessão do Spark\n",
    "spark = SparkSession.builder.appName(\"Analise_Vendas_Carros\").enableHiveSupport().getOrCreate()\n",
    "\n",
    "# Criar a base de dados (se não existir)\n",
    "spark.sql(\"CREATE DATABASE IF NOT EXISTS concessionaria\")\n",
    "\n",
    "# Selecionar a base de dados\n",
    "spark.sql(\"USE concessionaria\")\n",
    "\n",
    "# Criar os dados das vendas de carros\n",
    "dados = [\n",
    "    (1, \"João Almeida\", \"BMW\", \"Série 3\", 2022, 45000.0, 1, \"Transferência Bancária\"),\n",
    "    (2, \"Marta Costa\", \"Mercedes\", \"Classe A\", 2023, 38000.0, 1, \"Cartão de Crédito\"),\n",
    "    (3, \"Tiago Silva\", \"Audi\", \"A4\", 2021, 42000.0, 1, \"Financiamento\"),\n",
    "    (4, \"Ana Pereira\", \"Renault\", \"Clio\", 2020, 18000.0, 2, \"Cartão de Crédito\"),\n",
    "    (5, \"Luís Fernandes\", \"Tesla\", \"Model 3\", 2023, 52000.0, 1, \"Transferência Bancária\"),\n",
    "]\n",
    "\n",
    "# Definir as colunas\n",
    "colunas = [\"id_venda\", \"cliente\", \"marca\", \"modelo\", \"ano\", \"preco\", \"quantidade\", \"metodo_pagamento\"]\n",
    "\n",
    "# Criar DataFrame\n",
    "df = spark.createDataFrame(dados, colunas)\n",
    "\n",
    "# Criar uma tabela temporária para consultas SQL\n",
    "df.createOrReplaceTempView(\"vendas_carros\")\n"
   ]
  },
  {
   "cell_type": "code",
   "execution_count": 2,
   "id": "57133e22-a3b3-4f20-87f5-8e6f50648fe4",
   "metadata": {},
   "outputs": [
    {
     "name": "stdout",
     "output_type": "stream",
     "text": [
      "+--------+-----------+--------+--------+----+-------+----------+-----------------+\n",
      "|id_venda|    cliente|   marca|  modelo| ano|  preco|quantidade| metodo_pagamento|\n",
      "+--------+-----------+--------+--------+----+-------+----------+-----------------+\n",
      "|       2|Marta Costa|Mercedes|Classe A|2023|38000.0|         1|Cartão de Crédito|\n",
      "|       4|Ana Pereira| Renault|    Clio|2020|18000.0|         2|Cartão de Crédito|\n",
      "+--------+-----------+--------+--------+----+-------+----------+-----------------+\n",
      "\n"
     ]
    }
   ],
   "source": [
    "spark.sql(\"\"\"\n",
    "    SELECT * FROM vendas_carros\n",
    "    WHERE metodo_pagamento = 'Cartão de Crédito'\n",
    "\"\"\").show()\n",
    "\n"
   ]
  },
  {
   "cell_type": "code",
   "execution_count": null,
   "id": "efefe809-d86c-481a-a911-58fe9f5a6e99",
   "metadata": {},
   "outputs": [],
   "source": [
    "spark.sql(\"\"\"\n",
    "    SELECT * FROM vendas_carros\n",
    "    ORDER BY preco DESC\n",
    "\"\"\").show()\n"
   ]
  },
  {
   "cell_type": "code",
   "execution_count": null,
   "id": "2fdff6e7-0a6d-47e1-8d88-ca15694c0237",
   "metadata": {},
   "outputs": [],
   "source": [
    "spark.sql(\"\"\"\n",
    "    SELECT cliente, SUM(preco * quantidade) AS total_gasto\n",
    "    FROM vendas_carros\n",
    "    GROUP BY cliente\n",
    "\"\"\").show()\n"
   ]
  },
  {
   "cell_type": "code",
   "execution_count": null,
   "id": "76622aa9-5c16-4fd0-9fff-d267ec8604ba",
   "metadata": {},
   "outputs": [],
   "source": [
    "spark.sql(\"\"\"\n",
    "    SELECT marca, COUNT(*) AS total_vendas\n",
    "    FROM vendas_carros\n",
    "    GROUP BY marca\n",
    "\"\"\").show()\n"
   ]
  }
 ],
 "metadata": {
  "kernelspec": {
   "display_name": "Python 3 (ipykernel)",
   "language": "python",
   "name": "python3"
  },
  "language_info": {
   "codemirror_mode": {
    "name": "ipython",
    "version": 3
   },
   "file_extension": ".py",
   "mimetype": "text/x-python",
   "name": "python",
   "nbconvert_exporter": "python",
   "pygments_lexer": "ipython3",
   "version": "3.11.6"
  }
 },
 "nbformat": 4,
 "nbformat_minor": 5
}
