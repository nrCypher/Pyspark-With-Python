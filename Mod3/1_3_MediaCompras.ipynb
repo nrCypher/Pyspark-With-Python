{
 "cells": [
  {
   "cell_type": "code",
   "execution_count": 2,
   "id": "b9994f22-9435-477b-971f-e75e2c610edc",
   "metadata": {},
   "outputs": [
    {
     "name": "stdout",
     "output_type": "stream",
     "text": [
      "Média de compras com Pandas: 4999999.5, Tempo: 2.9364798069000244 segundos\n",
      "Média de compras com PySpark: 4999999.5, Tempo: 8.365475416183472 segundos\n"
     ]
    }
   ],
   "source": [
    "import pandas as pd\n",
    "import time\n",
    "from pyspark.sql import SparkSession\n",
    "\n",
    "# Criar a SparkSession para iniciar o PySpark\n",
    "spark = SparkSession.builder.appName(\"MediaCompras\").getOrCreate()\n",
    "sc = spark.sparkContext\n",
    "\n",
    "# Simulação de dados: 10 milhões de compras feitas por diferentes clientes\n",
    "dados = list(range(10_000_000))\n",
    "\n",
    "# --- Usando Pandas ---\n",
    "inicio_pandas = time.time()\n",
    "\n",
    "# Criar um DataFrame Pandas com os valores das compras\n",
    "df_pandas = pd.Series(dados)\n",
    "\n",
    "# Calcular a média de compras por cliente\n",
    "media_pandas = df_pandas.mean()\n",
    "\n",
    "# Medir o tempo total de execução\n",
    "tempo_pandas = time.time() - inicio_pandas\n",
    "\n",
    "# --- utilziando PySpark ---\n",
    "inicio_spark = time.time()\n",
    "\n",
    "# Criar um RDD distribuído com os valores das compras\n",
    "rdd = sc.parallelize(dados)\n",
    "\n",
    "# Calcular a média de compras usando PySpark\n",
    "media_spark = rdd.mean()\n",
    "\n",
    "# Medir o tempo total de execução\n",
    "tempo_spark = time.time() - inicio_spark\n",
    "\n",
    "# Exibir os resultados para comparação\n",
    "print(f\"Média de compras com Pandas: {media_pandas}, Tempo: {tempo_pandas} segundos\")\n",
    "print(f\"Média de compras com PySpark: {media_spark}, Tempo: {tempo_spark} segundos\")\n",
    "\n",
    "# Fechar a SparkSession\n",
    "spark.stop()\n"
   ]
  },
  {
   "cell_type": "code",
   "execution_count": null,
   "id": "8e170600-c0c6-4846-97c2-57ef5bda86e0",
   "metadata": {},
   "outputs": [],
   "source": []
  }
 ],
 "metadata": {
  "kernelspec": {
   "display_name": "Python 3 (ipykernel)",
   "language": "python",
   "name": "python3"
  },
  "language_info": {
   "codemirror_mode": {
    "name": "ipython",
    "version": 3
   },
   "file_extension": ".py",
   "mimetype": "text/x-python",
   "name": "python",
   "nbconvert_exporter": "python",
   "pygments_lexer": "ipython3",
   "version": "3.11.6"
  }
 },
 "nbformat": 4,
 "nbformat_minor": 5
}
