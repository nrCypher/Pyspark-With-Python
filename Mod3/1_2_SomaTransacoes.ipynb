{
 "cells": [
  {
   "cell_type": "code",
   "execution_count": 2,
   "id": "8118e1cd-1462-42e1-a69e-28dcdc767d48",
   "metadata": {},
   "outputs": [
    {
     "name": "stdout",
     "output_type": "stream",
     "text": [
      "Soma das transações com Pandas: 49999995000000, Tempo: 4.561789274215698 segundos\n",
      "Soma das transações com PySpark: 49999995000000, Tempo: 4.845813512802124 segundos\n"
     ]
    }
   ],
   "source": [
    "import pandas as pd\n",
    "import time\n",
    "from pyspark.sql import SparkSession\n",
    "\n",
    "# Criar uma SparkSession para iniciar o PySpark\n",
    "spark = SparkSession.builder.appName(\"SomaTransacoes\").getOrCreate()\n",
    "sc = spark.sparkContext\n",
    "\n",
    "# Simulação de dados: 10 milhões de valores representando transações financeiras\n",
    "dados = list(range(10_000_000))\n",
    "\n",
    "# --- Usando Pandas ---\n",
    "inicio_pandas = time.time()\n",
    "\n",
    "# Criar um DataFrame Pandas com os valores das transações\n",
    "df_pandas = pd.Series(dados)\n",
    "\n",
    "# Calcular a soma total das transações\n",
    "soma_pandas = df_pandas.sum()\n",
    "\n",
    "# Medir o tempo total de execução\n",
    "tempo_pandas = time.time() - inicio_pandas\n",
    "\n",
    "# --- utilziando PySpark ---\n",
    "inicio_spark = time.time()\n",
    "\n",
    "# Criar um RDD distribuído com os valores das transações\n",
    "rdd = sc.parallelize(dados)\n",
    "\n",
    "# Calcular a soma total das transações usando PySpark\n",
    "soma_spark = rdd.sum()\n",
    "\n",
    "# Medir o tempo total de execução\n",
    "tempo_spark = time.time() - inicio_spark\n",
    "\n",
    "# Exibir os resultados para comparação\n",
    "print(f\"Soma das transações com Pandas: {soma_pandas}, Tempo: {tempo_pandas} segundos\")\n",
    "print(f\"Soma das transações com PySpark: {soma_spark}, Tempo: {tempo_spark} segundos\")\n",
    "\n",
    "# Fechar a SparkSession\n",
    "spark.stop()\n"
   ]
  },
  {
   "cell_type": "code",
   "execution_count": null,
   "id": "09c4d439-5a76-4b47-90ec-421c236414bd",
   "metadata": {},
   "outputs": [],
   "source": []
  }
 ],
 "metadata": {
  "kernelspec": {
   "display_name": "Python 3 (ipykernel)",
   "language": "python",
   "name": "python3"
  },
  "language_info": {
   "codemirror_mode": {
    "name": "ipython",
    "version": 3
   },
   "file_extension": ".py",
   "mimetype": "text/x-python",
   "name": "python",
   "nbconvert_exporter": "python",
   "pygments_lexer": "ipython3",
   "version": "3.11.6"
  }
 },
 "nbformat": 4,
 "nbformat_minor": 5
}
