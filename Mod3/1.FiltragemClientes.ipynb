{
 "cells": [
  {
   "cell_type": "code",
   "execution_count": null,
   "id": "3b35e8f0-9c51-4e69-b5a8-9c06548e62ee",
   "metadata": {},
   "outputs": [],
   "source": [
    "import pandas as pd\n",
    "import time\n",
    "from pyspark.sql import SparkSession\n",
    "\n",
    "# Criar a SparkSession para iniciar o PySpark\n",
    "spark = SparkSession.builder.appName(\"FiltragemClientes\").getOrCreate()\n",
    "sc = spark.sparkContext\n",
    "\n",
    "# Simulação de dados: 10 milhões de IDs de clientes\n",
    "dados = list(range(10_000_000))\n",
    "\n",
    "# --- Usando Pandas ---\n",
    "inicio_pandas = time.time()\n",
    "\n",
    "# Criar um DataFrame Pandas com os IDs dos clientes\n",
    "df_pandas = pd.Series(dados)\n",
    "\n",
    "# Filtrar os clientes que fizeram um número par de compras\n",
    "clientes_pares_pandas = df_pandas[df_pandas % 2 == 0]\n",
    "\n",
    "# Medir o tempo total de execução\n",
    "tempo_pandas = time.time() - inicio_pandas\n",
    "\n",
    "# --- Usando PySpark ---\n",
    "\n",
    "# Criar uma função que verifica se um cliente fez um número par de compras\n",
    "def eh_par(x):\n",
    "    return x % 2 == 0\n",
    "\n",
    "inicio_spark = time.time()\n",
    "\n",
    "# Criar um RDD distribuído com os IDs dos clientes\n",
    "rdd = sc.parallelize(dados)\n",
    "\n",
    "# Aplicar a função de filtragem para selecionar apenas os clientes elegíveis\n",
    "clientes_pares_rdd = rdd.filter(eh_par)\n",
    "\n",
    "# Recolher os resultados após a filtragem\n",
    "clientes_pares_spark = clientes_pares_rdd.collect()\n",
    "\n",
    "# Medir o tempo total de execução\n",
    "tempo_spark = time.time() - inicio_spark\n",
    "\n",
    "# Exibir os resultados para comparação\n",
    "print(f\"Número de clientes selecionados com Pandas: {len(clientes_pares_pandas)}, Tempo: {tempo_pandas} segundos\")\n",
    "print(f\"Número de clientes selecionados com PySpark: {len(clientes_pares_spark)}, Tempo: {tempo_spark} segundos\")\n",
    "\n",
    "# Fechar a SparkSession\n",
    "spark.stop()\n"
   ]
  },
  {
   "cell_type": "code",
   "execution_count": null,
   "id": "31d3d854-36f3-4606-a18f-2c920bfb8d53",
   "metadata": {},
   "outputs": [],
   "source": []
  }
 ],
 "metadata": {
  "kernelspec": {
   "display_name": "Python 3 (ipykernel)",
   "language": "python",
   "name": "python3"
  },
  "language_info": {
   "codemirror_mode": {
    "name": "ipython",
    "version": 3
   },
   "file_extension": ".py",
   "mimetype": "text/x-python",
   "name": "python",
   "nbconvert_exporter": "python",
   "pygments_lexer": "ipython3",
   "version": "3.11.6"
  }
 },
 "nbformat": 4,
 "nbformat_minor": 5
}
