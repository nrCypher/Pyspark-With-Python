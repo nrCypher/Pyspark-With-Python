{
 "cells": [
  {
   "cell_type": "code",
   "execution_count": 1,
   "id": "8a4c86da-15c9-4e13-9f97-3025c57a5a5f",
   "metadata": {},
   "outputs": [],
   "source": [
    "from pyspark.sql import SparkSession\n",
    "\n",
    "# Criar uma sessão do Spark\n",
    "spark = SparkSession.builder.appName(\"ManipulacaoDados\").getOrCreate()\n"
   ]
  },
  {
   "cell_type": "code",
   "execution_count": 2,
   "id": "bda3d3a2-2344-430f-b4ed-027d47f0cd1b",
   "metadata": {},
   "outputs": [
    {
     "name": "stdout",
     "output_type": "stream",
     "text": [
      "+-------+-----+-------+\n",
      "|   nome|idade| cidade|\n",
      "+-------+-----+-------+\n",
      "|    Ana|   23| Lisboa|\n",
      "|  Bruno|   30|  Porto|\n",
      "| Carlos|   35| Lisboa|\n",
      "|Daniela|   29|Coimbra|\n",
      "|Eduardo|   40|  Porto|\n",
      "+-------+-----+-------+\n",
      "\n"
     ]
    }
   ],
   "source": [
    "from pyspark.sql import Row\n",
    "\n",
    "# Criar uma lista de dicionários\n",
    "dados = [\n",
    "    Row(nome=\"Ana\", idade=23, cidade=\"Lisboa\"),\n",
    "    Row(nome=\"Bruno\", idade=30, cidade=\"Porto\"),\n",
    "    Row(nome=\"Carlos\", idade=35, cidade=\"Lisboa\"),\n",
    "    Row(nome=\"Daniela\", idade=29, cidade=\"Coimbra\"),\n",
    "    Row(nome=\"Eduardo\", idade=40, cidade=\"Porto\")\n",
    "]\n",
    "\n",
    "# Criar um DataFrame a partir da lista\n",
    "df = spark.createDataFrame(dados)\n",
    "\n",
    "# Mostrar os dados\n",
    "df.show()"
   ]
  },
  {
   "cell_type": "code",
   "execution_count": 3,
   "id": "854e7011-f692-4cfd-b7cd-5d7bc19910ca",
   "metadata": {},
   "outputs": [
    {
     "name": "stdout",
     "output_type": "stream",
     "text": [
      "+------+-----+------+\n",
      "|  nome|idade|cidade|\n",
      "+------+-----+------+\n",
      "|   Ana|   23|Lisboa|\n",
      "|Carlos|   35|Lisboa|\n",
      "+------+-----+------+\n",
      "\n"
     ]
    }
   ],
   "source": [
    "df.filter(df.cidade == \"Lisboa\").show()\n",
    "\n"
   ]
  },
  {
   "cell_type": "code",
   "execution_count": 4,
   "id": "c061055f-201f-4cd8-a247-cc606893c943",
   "metadata": {},
   "outputs": [
    {
     "data": {
      "text/plain": [
       "DataFrame[]"
      ]
     },
     "execution_count": 4,
     "metadata": {},
     "output_type": "execute_result"
    }
   ],
   "source": [
    "from pyspark.sql import SparkSession\n",
    "\n",
    "# Criar sessão do Spark\n",
    "spark = SparkSession.builder.appName(\"PySpark_CatalogoFutebol\").getOrCreate()\n",
    "\n",
    "# Criar um banco de dados (se necessário)\n",
    "spark.sql(\"CREATE DATABASE IF NOT EXISTS futebol\")"
   ]
  },
  {
   "cell_type": "code",
   "execution_count": 5,
   "id": "6dda89c9-2b79-4f5e-9226-47ac3b0f3cd4",
   "metadata": {},
   "outputs": [
    {
     "data": {
      "text/plain": [
       "DataFrame[]"
      ]
     },
     "execution_count": 5,
     "metadata": {},
     "output_type": "execute_result"
    }
   ],
   "source": [
    "\n",
    "# Selecionar o banco de dados\n",
    "spark.sql(\"USE futebol\")\n"
   ]
  },
  {
   "cell_type": "code",
   "execution_count": 6,
   "id": "def6a869-e09a-4580-b7b1-fe599a57ee6a",
   "metadata": {},
   "outputs": [],
   "source": [
    "\n",
    "# Criar um DataFrame de jogadores\n",
    "dados = [\n",
    "    (\"Cristiano Ronaldo\", \"Al Nassr\", 38, 20, 5),\n",
    "    (\"Lionel Messi\", \"Inter Miami\", 36, 18, 12),\n",
    "    (\"Neymar\", \"Al Hilal\", 31, 10, 8),\n",
    "    (\"Kevin De Bruyne\", \"Manchester City\", 32, 5, 15),\n",
    "]\n"
   ]
  },
  {
   "cell_type": "code",
   "execution_count": 7,
   "id": "bb9340b0-0dc6-46ee-a658-f2d2e8b21e91",
   "metadata": {},
   "outputs": [],
   "source": [
    "\n",
    "colunas = [\"jogador\", \"time\", \"idade\", \"golos\", \"assistencias\"]\n",
    "\n",
    "df = spark.createDataFrame(dados, colunas)\n"
   ]
  },
  {
   "cell_type": "code",
   "execution_count": 8,
   "id": "278e374f-3c49-4d66-ba9c-76db766216c6",
   "metadata": {},
   "outputs": [],
   "source": [
    "\n",
    "# Criar uma tabela temporária\n",
    "df.createOrReplaceTempView(\"jogadores\")\n"
   ]
  },
  {
   "cell_type": "code",
   "execution_count": 9,
   "id": "1fd0fc02-e913-432d-93f2-caa447aca0c6",
   "metadata": {},
   "outputs": [
    {
     "name": "stdout",
     "output_type": "stream",
     "text": [
      "🔹 Dados Disponíveis:\n",
      "[Database(name='default', catalog='spark_catalog', description='default database', locationUri='file:/home/jovyan/work/Aula%25203%2520/spark-warehouse'), Database(name='futebol', catalog='spark_catalog', description='', locationUri='file:/home/jovyan/work/Aula%25203%2520/spark-warehouse/futebol.db')]\n"
     ]
    }
   ],
   "source": [
    "\n",
    "# Listar os bancos de dados\n",
    "print(\"🔹 Dados Disponíveis:\")\n",
    "print(spark.catalog.listDatabases())"
   ]
  },
  {
   "cell_type": "code",
   "execution_count": null,
   "id": "6acb83f5-e208-48a5-ae54-ffb3481b4d0c",
   "metadata": {},
   "outputs": [],
   "source": []
  },
  {
   "cell_type": "code",
   "execution_count": null,
   "id": "813ddf72-d95f-4a4b-8f78-997a7622e887",
   "metadata": {},
   "outputs": [],
   "source": []
  }
 ],
 "metadata": {
  "kernelspec": {
   "display_name": "Python 3 (ipykernel)",
   "language": "python",
   "name": "python3"
  },
  "language_info": {
   "codemirror_mode": {
    "name": "ipython",
    "version": 3
   },
   "file_extension": ".py",
   "mimetype": "text/x-python",
   "name": "python",
   "nbconvert_exporter": "python",
   "pygments_lexer": "ipython3",
   "version": "3.11.6"
  }
 },
 "nbformat": 4,
 "nbformat_minor": 5
}
